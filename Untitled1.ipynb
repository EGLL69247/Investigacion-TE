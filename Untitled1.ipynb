{
 "cells": [
  {
   "cell_type": "markdown",
   "id": "eae27455-f7d6-41a4-8144-91aeef89d91d",
   "metadata": {},
   "source": [
    "# Normalización Estandar "
   ]
  },
  {
   "cell_type": "markdown",
   "id": "3f819cce-0bbf-4606-ae6b-a48233266363",
   "metadata": {},
   "source": [
    "##### Una empresa manufacturera ha utilizado fotogrametría del objeto cercano para determinar las medidas del largo de un lote de piezas automotrices que será enviado a EUA. El resultado del análisis será usado para determinar ajustes a las maquinas productoras.  "
   ]
  },
  {
   "cell_type": "code",
   "execution_count": 1,
   "id": "066f3a4d-dc6a-4080-a060-14ea7c85737e",
   "metadata": {},
   "outputs": [],
   "source": [
    "import pandas as pd\n",
    "import numpy as np \n",
    "import matplotlib.pyplot as plt\n",
    "import seaborn as sb\n",
    "from glob import glob \n",
    "import statistics as st\n",
    "import math as m \n",
    "import scipy as scipy"
   ]
  },
  {
   "cell_type": "code",
   "execution_count": 17,
   "id": "8fa44636-f7d4-4b3c-903b-59629c048f1c",
   "metadata": {},
   "outputs": [],
   "source": [
    "from scipy.stats import norm"
   ]
  },
  {
   "cell_type": "code",
   "execution_count": 270,
   "id": "2a134e1f-ff5e-4bd0-b65c-e9f2ceb2a4e6",
   "metadata": {},
   "outputs": [],
   "source": [
    "import seaborn as sns"
   ]
  },
  {
   "cell_type": "code",
   "execution_count": 2,
   "id": "11bca7f1-f874-43ca-936d-b7c9e86598f1",
   "metadata": {},
   "outputs": [],
   "source": [
    "headers= ['symboling','normalized-loses','make','fuel-type','aspiration','num-of-doors','body-style','drive-wheels','engine-location','wheel-base','lenght','widht','height','curb-weight','engine-type','num-of-culinders','engine-size','fuel-system','bore','stroke','compression-ratio','horsepower','peak-rpm','city-mpg','highway-mpg','price']\n",
    "fn= pd.read_csv('auto.csv',names= headers)"
   ]
  },
  {
   "cell_type": "markdown",
   "id": "f3cb759e-ce96-4b62-8476-9fa3d84f24e5",
   "metadata": {},
   "source": [
    "### Media, mediana y moda"
   ]
  },
  {
   "cell_type": "code",
   "execution_count": 100,
   "id": "308ec692-01a5-4912-8c45-c4f36f3e2034",
   "metadata": {},
   "outputs": [
    {
     "data": {
      "text/html": [
       "<div>\n",
       "<style scoped>\n",
       "    .dataframe tbody tr th:only-of-type {\n",
       "        vertical-align: middle;\n",
       "    }\n",
       "\n",
       "    .dataframe tbody tr th {\n",
       "        vertical-align: top;\n",
       "    }\n",
       "\n",
       "    .dataframe thead th {\n",
       "        text-align: right;\n",
       "    }\n",
       "</style>\n",
       "<table border=\"1\" class=\"dataframe\">\n",
       "  <thead>\n",
       "    <tr style=\"text-align: right;\">\n",
       "      <th></th>\n",
       "      <th>lenght</th>\n",
       "      <th>widht</th>\n",
       "      <th>height</th>\n",
       "    </tr>\n",
       "  </thead>\n",
       "  <tbody>\n",
       "    <tr>\n",
       "      <th>count</th>\n",
       "      <td>205.000000</td>\n",
       "      <td>205.000000</td>\n",
       "      <td>205.000000</td>\n",
       "    </tr>\n",
       "    <tr>\n",
       "      <th>mean</th>\n",
       "      <td>174.049268</td>\n",
       "      <td>65.907805</td>\n",
       "      <td>53.724878</td>\n",
       "    </tr>\n",
       "    <tr>\n",
       "      <th>std</th>\n",
       "      <td>12.337289</td>\n",
       "      <td>2.145204</td>\n",
       "      <td>2.443522</td>\n",
       "    </tr>\n",
       "    <tr>\n",
       "      <th>min</th>\n",
       "      <td>141.100000</td>\n",
       "      <td>60.300000</td>\n",
       "      <td>47.800000</td>\n",
       "    </tr>\n",
       "    <tr>\n",
       "      <th>25%</th>\n",
       "      <td>166.300000</td>\n",
       "      <td>64.100000</td>\n",
       "      <td>52.000000</td>\n",
       "    </tr>\n",
       "    <tr>\n",
       "      <th>50%</th>\n",
       "      <td>173.200000</td>\n",
       "      <td>65.500000</td>\n",
       "      <td>54.100000</td>\n",
       "    </tr>\n",
       "    <tr>\n",
       "      <th>75%</th>\n",
       "      <td>183.100000</td>\n",
       "      <td>66.900000</td>\n",
       "      <td>55.500000</td>\n",
       "    </tr>\n",
       "    <tr>\n",
       "      <th>max</th>\n",
       "      <td>208.100000</td>\n",
       "      <td>72.300000</td>\n",
       "      <td>59.800000</td>\n",
       "    </tr>\n",
       "  </tbody>\n",
       "</table>\n",
       "</div>"
      ],
      "text/plain": [
       "           lenght       widht      height\n",
       "count  205.000000  205.000000  205.000000\n",
       "mean   174.049268   65.907805   53.724878\n",
       "std     12.337289    2.145204    2.443522\n",
       "min    141.100000   60.300000   47.800000\n",
       "25%    166.300000   64.100000   52.000000\n",
       "50%    173.200000   65.500000   54.100000\n",
       "75%    183.100000   66.900000   55.500000\n",
       "max    208.100000   72.300000   59.800000"
      ]
     },
     "execution_count": 100,
     "metadata": {},
     "output_type": "execute_result"
    }
   ],
   "source": [
    "fn1= fn[['lenght','widht','height']]\n",
    "fn1.describe()"
   ]
  },
  {
   "cell_type": "code",
   "execution_count": 44,
   "id": "54cd053d-db75-4345-a285-1847755d7910",
   "metadata": {},
   "outputs": [
    {
     "name": "stdout",
     "output_type": "stream",
     "text": [
      "141.1 , 208.1\n"
     ]
    }
   ],
   "source": [
    "print(fn1['lenght'].min(),',',fn1['lenght'].max())"
   ]
  },
  {
   "cell_type": "code",
   "execution_count": 47,
   "id": "893ea157-f7b1-4047-81b5-c51566af3f6f",
   "metadata": {},
   "outputs": [
    {
     "data": {
      "text/plain": [
       "67.0"
      ]
     },
     "execution_count": 47,
     "metadata": {},
     "output_type": "execute_result"
    }
   ],
   "source": [
    "Rango= fn1['lenght'].max()-fn1['lenght'].min()\n",
    "Rango"
   ]
  },
  {
   "cell_type": "code",
   "execution_count": 110,
   "id": "f34e4c89-26dd-4f08-90e7-9c4cbfafc7de",
   "metadata": {},
   "outputs": [
    {
     "data": {
      "text/plain": [
       "8"
      ]
     },
     "execution_count": 110,
     "metadata": {},
     "output_type": "execute_result"
    }
   ],
   "source": [
    "intervalos= 1+3.332*(m.log10(205))\n",
    "intervalos= m.floor(intervalos)\n",
    "intervalos"
   ]
  },
  {
   "cell_type": "code",
   "execution_count": 109,
   "id": "8a61f78d-4588-41a2-85c7-6ba517b8ac42",
   "metadata": {},
   "outputs": [
    {
     "data": {
      "text/plain": [
       "7"
      ]
     },
     "execution_count": 109,
     "metadata": {},
     "output_type": "execute_result"
    }
   ],
   "source": [
    "amplitud= Rango/intervalos\n",
    "amplitud= m.floor(amplitud)\n",
    "amplitud"
   ]
  },
  {
   "cell_type": "markdown",
   "id": "842d6a41-919d-493b-86fa-88f0f6c07f1e",
   "metadata": {},
   "source": [
    "### Número de intervalos (usando el método de Sturges)"
   ]
  },
  {
   "cell_type": "code",
   "execution_count": 260,
   "id": "fe84f149-7957-4493-a1b7-3b755d0cfef4",
   "metadata": {},
   "outputs": [
    {
     "data": {
      "text/html": [
       "<div>\n",
       "<style scoped>\n",
       "    .dataframe tbody tr th:only-of-type {\n",
       "        vertical-align: middle;\n",
       "    }\n",
       "\n",
       "    .dataframe tbody tr th {\n",
       "        vertical-align: top;\n",
       "    }\n",
       "\n",
       "    .dataframe thead th {\n",
       "        text-align: right;\n",
       "    }\n",
       "</style>\n",
       "<table border=\"1\" class=\"dataframe\">\n",
       "  <thead>\n",
       "    <tr style=\"text-align: right;\">\n",
       "      <th></th>\n",
       "      <th>FrecAbs</th>\n",
       "      <th>Marca</th>\n",
       "    </tr>\n",
       "    <tr>\n",
       "      <th>Intervalo</th>\n",
       "      <th></th>\n",
       "      <th></th>\n",
       "    </tr>\n",
       "  </thead>\n",
       "  <tbody>\n",
       "    <tr>\n",
       "      <th>[141.0, 149.5)</th>\n",
       "      <td>3</td>\n",
       "      <td>145.25</td>\n",
       "    </tr>\n",
       "    <tr>\n",
       "      <th>[149.5, 158.0)</th>\n",
       "      <td>24</td>\n",
       "      <td>153.75</td>\n",
       "    </tr>\n",
       "    <tr>\n",
       "      <th>[158.0, 166.5)</th>\n",
       "      <td>25</td>\n",
       "      <td>162.25</td>\n",
       "    </tr>\n",
       "    <tr>\n",
       "      <th>[166.5, 175.0)</th>\n",
       "      <td>62</td>\n",
       "      <td>170.75</td>\n",
       "    </tr>\n",
       "    <tr>\n",
       "      <th>[175.0, 183.5)</th>\n",
       "      <td>40</td>\n",
       "      <td>179.25</td>\n",
       "    </tr>\n",
       "    <tr>\n",
       "      <th>[183.5, 192.0)</th>\n",
       "      <td>36</td>\n",
       "      <td>187.75</td>\n",
       "    </tr>\n",
       "    <tr>\n",
       "      <th>[192.0, 200.5)</th>\n",
       "      <td>12</td>\n",
       "      <td>196.25</td>\n",
       "    </tr>\n",
       "    <tr>\n",
       "      <th>[200.5, 209.0)</th>\n",
       "      <td>3</td>\n",
       "      <td>204.75</td>\n",
       "    </tr>\n",
       "  </tbody>\n",
       "</table>\n",
       "</div>"
      ],
      "text/plain": [
       "                FrecAbs   Marca\n",
       "Intervalo                      \n",
       "[141.0, 149.5)        3  145.25\n",
       "[149.5, 158.0)       24  153.75\n",
       "[158.0, 166.5)       25  162.25\n",
       "[166.5, 175.0)       62  170.75\n",
       "[175.0, 183.5)       40  179.25\n",
       "[183.5, 192.0)       36  187.75\n",
       "[192.0, 200.5)       12  196.25\n",
       "[200.5, 209.0)        3  204.75"
      ]
     },
     "execution_count": 260,
     "metadata": {},
     "output_type": "execute_result"
    }
   ],
   "source": [
    "data= fn1[['lenght']]\n",
    "pd.set_option('precision',6)\n",
    "datos= data[:]\n",
    "k= 1+3.332*m.log10(len(datos))\n",
    "numero= int(k)\n",
    "if numero % 2==0:\n",
    "    periodos= m.ceil(k)\n",
    "else:\n",
    "    periodos= int(k)\n",
    "    \n",
    "inf= int(datos.min())    \n",
    "dif= int(datos.max())\n",
    "sup= int(datos.max()+1)\n",
    "\n",
    "interv= pd.interval_range(\n",
    "    start= inf,\n",
    "    end= sup,\n",
    "    periods= k,\n",
    "    name= 'Intervalo',\n",
    "    closed= 'left')\n",
    "\n",
    "df= pd.DataFrame(index= interv)\n",
    "df['FrecAbs']= pd.cut(datos.lenght,bins= df.index).value_counts()\n",
    "df['Marca']= df.index.mid\n",
    "df     "
   ]
  },
  {
   "cell_type": "markdown",
   "id": "ffd52348-fa0b-4dd4-bb4c-97638e48df24",
   "metadata": {},
   "source": [
    "### Histograma"
   ]
  },
  {
   "cell_type": "code",
   "execution_count": 273,
   "id": "45c55c6a-f268-473e-b297-f8bfcc2a8d69",
   "metadata": {},
   "outputs": [
    {
     "name": "stderr",
     "output_type": "stream",
     "text": [
      "D:\\Conda\\envs\\geo_env\\lib\\site-packages\\seaborn\\distributions.py:2619: FutureWarning: `distplot` is a deprecated function and will be removed in a future version. Please adapt your code to use either `displot` (a figure-level function with similar flexibility) or `histplot` (an axes-level function for histograms).\n",
      "  warnings.warn(msg, FutureWarning)\n"
     ]
    },
    {
     "data": {
      "image/png": "[encoded data removed]",
      "text/plain": [
       "<Figure size 432x288 with 1 Axes>"
      ]
     },
     "metadata": {
      "needs_background": "light"
     },
     "output_type": "display_data"
    }
   ],
   "source": [
    "ax = sns.distplot(df, bins=8)"
   ]
  },
  {
   "cell_type": "markdown",
   "id": "71f54847-3faf-4920-9844-4a68f95814a1",
   "metadata": {},
   "source": [
    "### Datos sin estandarizar"
   ]
  },
  {
   "cell_type": "code",
   "execution_count": 287,
   "id": "fb44c455-6ea2-46aa-b823-1b56c1753af6",
   "metadata": {},
   "outputs": [
    {
     "data": {
      "image/png": "[encoded data removed]",
      "text/plain": [
       "<Figure size 432x288 with 1 Axes>"
      ]
     },
     "metadata": {
      "needs_background": "light"
     },
     "output_type": "display_data"
    }
   ],
   "source": [
    "%matplotlib inline\n",
    "hist= fn[['lenght']].hist(bins=8)"
   ]
  },
  {
   "cell_type": "code",
   "execution_count": 289,
   "id": "0921a025-607e-4539-9344-f56b8f7e4d9c",
   "metadata": {},
   "outputs": [
    {
     "name": "stderr",
     "output_type": "stream",
     "text": [
      "<ipython-input-289-07f551045fe8>:2: SettingWithCopyWarning: \n",
      "A value is trying to be set on a copy of a slice from a DataFrame.\n",
      "Try using .loc[row_indexer,col_indexer] = value instead\n",
      "\n",
      "See the caveats in the documentation: https://pandas.pydata.org/pandas-docs/stable/user_guide/indexing.html#returning-a-view-versus-a-copy\n",
      "  fn1['lenght']= (fn1['lenght']-st.mean(fn1.lenght))/st.pstdev(fn1.lenght)\n"
     ]
    },
    {
     "data": {
      "image/png": "[encoded data removed]",
      "text/plain": [
       "<Figure size 432x288 with 1 Axes>"
      ]
     },
     "metadata": {
      "needs_background": "light"
     },
     "output_type": "display_data"
    }
   ],
   "source": [
    "fn1= fn[['lenght']]\n",
    "fn1['lenght']= (fn1['lenght']-st.mean(fn1.lenght))/st.pstdev(fn1.lenght)\n",
    "%matplotlib inline\n",
    "hist= fn1[['lenght']].hist(bins=8)"
   ]
  },
  {
   "cell_type": "markdown",
   "id": "c2728d5e-9e54-4ee1-a634-bc0ed57165bb",
   "metadata": {},
   "source": [
    "### Datos estadarizados"
   ]
  },
  {
   "cell_type": "code",
   "execution_count": 292,
   "id": "9748c7a0-7b67-4134-a783-185e7b27b48b",
   "metadata": {},
   "outputs": [
    {
     "name": "stderr",
     "output_type": "stream",
     "text": [
      "D:\\Conda\\envs\\geo_env\\lib\\site-packages\\seaborn\\distributions.py:2619: FutureWarning: `distplot` is a deprecated function and will be removed in a future version. Please adapt your code to use either `displot` (a figure-level function with similar flexibility) or `histplot` (an axes-level function for histograms).\n",
      "  warnings.warn(msg, FutureWarning)\n"
     ]
    },
    {
     "data": {
      "image/png": "[encoded data removed]",
      "text/plain": [
       "<Figure size 432x288 with 1 Axes>"
      ]
     },
     "metadata": {
      "needs_background": "light"
     },
     "output_type": "display_data"
    }
   ],
   "source": [
    "ax1 = sns.distplot(fn1, bins=8)"
   ]
  },
  {
   "cell_type": "code",
   "execution_count": 293,
   "id": "230f3c18-f087-490e-83d9-121c841fe6c3",
   "metadata": {},
   "outputs": [
    {
     "data": {
      "text/html": [
       "<div>\n",
       "<style scoped>\n",
       "    .dataframe tbody tr th:only-of-type {\n",
       "        vertical-align: middle;\n",
       "    }\n",
       "\n",
       "    .dataframe tbody tr th {\n",
       "        vertical-align: top;\n",
       "    }\n",
       "\n",
       "    .dataframe thead th {\n",
       "        text-align: right;\n",
       "    }\n",
       "</style>\n",
       "<table border=\"1\" class=\"dataframe\">\n",
       "  <thead>\n",
       "    <tr style=\"text-align: right;\">\n",
       "      <th></th>\n",
       "      <th>lenght</th>\n",
       "    </tr>\n",
       "  </thead>\n",
       "  <tbody>\n",
       "    <tr>\n",
       "      <th>count</th>\n",
       "      <td>2.050000e+02</td>\n",
       "    </tr>\n",
       "    <tr>\n",
       "      <th>mean</th>\n",
       "      <td>-9.358368e-16</td>\n",
       "    </tr>\n",
       "    <tr>\n",
       "      <th>std</th>\n",
       "      <td>1.002448e+00</td>\n",
       "    </tr>\n",
       "    <tr>\n",
       "      <th>min</th>\n",
       "      <td>-2.677244e+00</td>\n",
       "    </tr>\n",
       "    <tr>\n",
       "      <th>25%</th>\n",
       "      <td>-6.296552e-01</td>\n",
       "    </tr>\n",
       "    <tr>\n",
       "      <th>50%</th>\n",
       "      <td>-6.900603e-02</td>\n",
       "    </tr>\n",
       "    <tr>\n",
       "      <th>75%</th>\n",
       "      <td>7.354037e-01</td>\n",
       "    </tr>\n",
       "    <tr>\n",
       "      <th>max</th>\n",
       "      <td>2.766741e+00</td>\n",
       "    </tr>\n",
       "  </tbody>\n",
       "</table>\n",
       "</div>"
      ],
      "text/plain": [
       "             lenght\n",
       "count  2.050000e+02\n",
       "mean  -9.358368e-16\n",
       "std    1.002448e+00\n",
       "min   -2.677244e+00\n",
       "25%   -6.296552e-01\n",
       "50%   -6.900603e-02\n",
       "75%    7.354037e-01\n",
       "max    2.766741e+00"
      ]
     },
     "execution_count": 293,
     "metadata": {},
     "output_type": "execute_result"
    }
   ],
   "source": [
    "fn1.describe()"
   ]
  },
  {
   "cell_type": "markdown",
   "id": "967ed939-7703-4f56-bf9b-683ec8c49869",
   "metadata": {},
   "source": [
    "### Valores estandarizados en un archivo csv"
   ]
  },
  {
   "cell_type": "code",
   "execution_count": 296,
   "id": "82e4f218-73bd-4ec5-b66e-2d10d92d0a27",
   "metadata": {},
   "outputs": [],
   "source": [
    "compression_opts = dict(method='zip',\n",
    "                        archive_name='ValuesEst.csv')  \n",
    "fn1.to_csv('ValuesEst.zip', index=False,\n",
    "          compression=compression_opts)  "
   ]
  }
 ],
 "metadata": {
  "kernelspec": {
   "display_name": "Python 3",
   "language": "python",
   "name": "python3"
  },
  "language_info": {
   "codemirror_mode": {
    "name": "ipython",
    "version": 3
   },
   "file_extension": ".py",
   "mimetype": "text/x-python",
   "name": "python",
   "nbconvert_exporter": "python",
   "pygments_lexer": "ipython3",
   "version": "3.8.10"
  }
 },
 "nbformat": 4,
 "nbformat_minor": 5
}
